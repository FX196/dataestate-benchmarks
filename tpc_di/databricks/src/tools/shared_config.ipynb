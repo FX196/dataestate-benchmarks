{
 "cells": [
  {
   "cell_type": "code",
   "execution_count": 0,
   "metadata": {
    "application/vnd.databricks.v1+cell": {
     "cellMetadata": {},
     "inputWidgets": {},
     "nuid": "1d06e445-c95c-49e1-94ed-2810d3dd404d",
     "showTitle": false,
     "tableResultSettingsMap": {},
     "title": ""
    }
   },
   "outputs": [],
   "source": [
    "def build_dag_args():\n",
    "    \"\"\"\n",
    "    Build the complete dag_args dictionary needed for workflow generation.\n",
    "    This function gathers all the required parameters from the global namespace\n",
    "    and returns a dictionary suitable for Jinja template rendering.\n",
    "    \"\"\"\n",
    "    try:\n",
    "        # Calculate shuffle partitions if not already done\n",
    "        total_avail_memory = node_types[worker_node_type]['memory_mb'] if worker_node_count == 0 else node_types[worker_node_type]['memory_mb']*worker_node_count\n",
    "        total_cores = node_types[worker_node_type]['num_cores'] if worker_node_count == 0 else node_types[worker_node_type]['num_cores']*worker_node_count\n",
    "        shuffle_partitions = int(total_cores * max(1, shuffle_part_mult * scale_factor / total_avail_memory))\n",
    "    except NameError: \n",
    "        dbutils.notebook.exit(f\"This notebook cannot be executed standalone and MUST be called from the workflow_builder notebook!\")\n",
    "\n",
    "    return {\n",
    "        \"wh_target\": wh_target, \n",
    "        \"tpcdi_directory\": tpcdi_directory, \n",
    "        \"scale_factor\": scale_factor, \n",
    "        \"job_name\": job_name,\n",
    "        \"repo_src_path\": repo_src_path,\n",
    "        \"cloud_provider\": cloud_provider,\n",
    "        \"worker_node_type\": worker_node_type,\n",
    "        \"driver_node_type\": driver_node_type,\n",
    "        \"worker_node_count\": worker_node_count,\n",
    "        \"dbr\": dbr_version_id,\n",
    "        \"shuffle_partitions\": shuffle_partitions\n",
    "    }\n",
    "\n",
    "def get_data_generation_config():\n",
    "    \"\"\"\n",
    "    Get only the configuration needed for data generation.\n",
    "    \"\"\"\n",
    "    return {\n",
    "        \"tpcdi_directory\": tpcdi_directory,\n",
    "        \"scale_factor\": scale_factor\n",
    "    } "
   ]
  }
 ],
 "metadata": {
  "application/vnd.databricks.v1+notebook": {
   "computePreferences": null,
   "dashboards": [],
   "environmentMetadata": {
    "base_environment": "",
    "environment_version": "2"
   },
   "inputWidgetPreferences": null,
   "language": "python",
   "notebookMetadata": {
    "pythonIndentUnit": 2
   },
   "notebookName": "shared_config",
   "widgets": {}
  },
  "language_info": {
   "name": "python"
  }
 },
 "nbformat": 4,
 "nbformat_minor": 0
}
